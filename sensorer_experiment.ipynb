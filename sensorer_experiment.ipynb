{
 "cells": [
  {
   "cell_type": "code",
   "execution_count": null,
   "metadata": {},
   "outputs": [],
   "source": [
    "# Rattstångens position och acceleration\n",
    "Absolut grundläggande. HALL-sensorer finns på motorn, undersök dessa.\n",
    "Komplettera med mätningar på EMF bakspänning. \n",
    "En tanke är en enpunkts givare i rattens mittläge (alternativt två) för kalibrering. \n",
    "En annan tanke är optiska sensorer och multiplex: mäta punkter som är INTE kan resonera, olika vinklar även möjligt.\n",
    "Även en jämviktesvation bör ingå eftersom allt utom yttre påverkan går att bestämma:\n",
    "Vridmoment tillfört, tröghetsmoment, vinkelacceleration <=> Gubbe styr emot. \n",
    "Mänsklig reaktionsförmåga är förutsägbart. Även motstyrning då det bör antas fortsätta så länge \n",
    "\"FFB\" kämpar emot. \n",
    "\n",
    "Antaganden kan även göras, som kanske inte hjälper motorstyrning, men om ackumulerad potentiell energi då \n",
    "motorsyrningen får plötsligt höga kraftsignaler och samtidigt inte vinkeln ändras: då bör en större kraftsignal komma eftersom \n",
    "en större vinkeländring förväntats och att \"fjäder\"-principen byggs på av FFB-kontrollern. "
   ]
  },
  {
   "cell_type": "markdown",
   "metadata": {},
   "source": []
  },
  {
   "attachments": {},
   "cell_type": "markdown",
   "metadata": {},
   "source": [
    "# "
   ]
  }
 ],
 "metadata": {
  "language_info": {
   "name": "python"
  },
  "orig_nbformat": 4
 },
 "nbformat": 4,
 "nbformat_minor": 2
}
